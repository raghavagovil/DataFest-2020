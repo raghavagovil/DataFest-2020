{
 "cells": [
  {
   "cell_type": "code",
   "execution_count": 1,
   "metadata": {},
   "outputs": [
    {
     "name": "stderr",
     "output_type": "stream",
     "text": [
      "[nltk_data] Downloading package averaged_perceptron_tagger to\n",
      "[nltk_data]     /Users/raghavagovil/nltk_data...\n",
      "[nltk_data]   Package averaged_perceptron_tagger is already up-to-\n",
      "[nltk_data]       date!\n",
      "Warming up PyWSD (takes ~10 secs)... took 6.816554069519043 secs.\n"
     ]
    }
   ],
   "source": [
    "# importing libraries\n",
    "import pandas as pd\n",
    "import os\n",
    "import xlrd\n",
    "import re\n",
    "import matplotlib.pyplot as plt\n",
    "import seaborn as sns\n",
    "from nltk.corpus import stopwords\n",
    "from vaderSentiment.vaderSentiment import SentimentIntensityAnalyzer \n",
    "from wordcloud import WordCloud, STOPWORDS\n",
    "import numpy as np\n",
    "import nltk\n",
    "nltk.download('averaged_perceptron_tagger')\n",
    "from nltk.stem import WordNetLemmatizer\n",
    "from pywsd.utils import lemmatize_sentence\n",
    "from sklearn.preprocessing import normalize\n",
    "import scipy.cluster.hierarchy as shc\n",
    "from sklearn.cluster import AgglomerativeClustering"
   ]
  },
  {
   "cell_type": "code",
   "execution_count": 2,
   "metadata": {},
   "outputs": [
    {
     "data": {
      "text/html": [
       "<div>\n",
       "<style scoped>\n",
       "    .dataframe tbody tr th:only-of-type {\n",
       "        vertical-align: middle;\n",
       "    }\n",
       "\n",
       "    .dataframe tbody tr th {\n",
       "        vertical-align: top;\n",
       "    }\n",
       "\n",
       "    .dataframe thead th {\n",
       "        text-align: right;\n",
       "    }\n",
       "</style>\n",
       "<table border=\"1\" class=\"dataframe\">\n",
       "  <thead>\n",
       "    <tr style=\"text-align: right;\">\n",
       "      <th></th>\n",
       "      <th>text</th>\n",
       "      <th>created_at</th>\n",
       "    </tr>\n",
       "  </thead>\n",
       "  <tbody>\n",
       "    <tr>\n",
       "      <td>0</td>\n",
       "      <td>With the number of confirmed cases of coronavi...</td>\n",
       "      <td>Tue Mar 10 00:00:05 +0000 2020</td>\n",
       "    </tr>\n",
       "    <tr>\n",
       "      <td>1</td>\n",
       "      <td>#COVID-19  is Q84263196 in #WIkidata.  The ite...</td>\n",
       "      <td>Tue Mar 10 00:00:10 +0000 2020</td>\n",
       "    </tr>\n",
       "    <tr>\n",
       "      <td>2</td>\n",
       "      <td>Another fearless leader has everything under c...</td>\n",
       "      <td>Tue Mar 10 00:00:07 +0000 2020</td>\n",
       "    </tr>\n",
       "    <tr>\n",
       "      <td>3</td>\n",
       "      <td>Gutter crime? |#gutters #guttercleaning #gutte...</td>\n",
       "      <td>Tue Mar 10 00:00:02 +0000 2020</td>\n",
       "    </tr>\n",
       "    <tr>\n",
       "      <td>4</td>\n",
       "      <td>How To Boost Your Emergency Supply Of Prescrip...</td>\n",
       "      <td>Tue Mar 10 00:00:02 +0000 2020</td>\n",
       "    </tr>\n",
       "  </tbody>\n",
       "</table>\n",
       "</div>"
      ],
      "text/plain": [
       "                                                text  \\\n",
       "0  With the number of confirmed cases of coronavi...   \n",
       "1  #COVID-19  is Q84263196 in #WIkidata.  The ite...   \n",
       "2  Another fearless leader has everything under c...   \n",
       "3  Gutter crime? |#gutters #guttercleaning #gutte...   \n",
       "4  How To Boost Your Emergency Supply Of Prescrip...   \n",
       "\n",
       "                       created_at  \n",
       "0  Tue Mar 10 00:00:05 +0000 2020  \n",
       "1  Tue Mar 10 00:00:10 +0000 2020  \n",
       "2  Tue Mar 10 00:00:07 +0000 2020  \n",
       "3  Tue Mar 10 00:00:02 +0000 2020  \n",
       "4  Tue Mar 10 00:00:02 +0000 2020  "
      ]
     },
     "execution_count": 2,
     "metadata": {},
     "output_type": "execute_result"
    }
   ],
   "source": [
    "# reading in the data \n",
    "pd.set_option('display.max_columns', 500)\n",
    "nikhil = pd.read_csv('nikhil_only_english.csv')\n",
    "raghava = pd.read_csv('raghava_only_english.csv')\n",
    "kevin = pd.read_csv('kevin_only_english.csv')\n",
    "tweets = pd.concat([raghava, nikhil, kevin], ignore_index = True)\n",
    "tweets = tweets[['text', 'created_at']]\n",
    "tweets.head()"
   ]
  },
  {
   "cell_type": "code",
   "execution_count": 3,
   "metadata": {},
   "outputs": [],
   "source": [
    "analyser = SentimentIntensityAnalyzer()\n",
    "\n",
    "def sentiment_analyzer_scores(sentence):\n",
    "    score = analyser.polarity_scores(sentence) \n",
    "    return score"
   ]
  },
  {
   "cell_type": "code",
   "execution_count": 4,
   "metadata": {},
   "outputs": [],
   "source": [
    "scores = []\n",
    "\n",
    "for i in range(tweets.shape[0]): \n",
    "    scores.append(sentiment_analyzer_scores(str(tweets.iloc[i,])))"
   ]
  },
  {
   "cell_type": "code",
   "execution_count": 5,
   "metadata": {},
   "outputs": [
    {
     "data": {
      "text/plain": [
       "[{'neg': 0.0, 'neu': 0.936, 'pos': 0.064, 'compound': 0.0772},\n",
       " {'neg': 0.0, 'neu': 1.0, 'pos': 0.0, 'compound': 0.0},\n",
       " {'neg': 0.0, 'neu': 0.861, 'pos': 0.139, 'compound': 0.4404},\n",
       " {'neg': 0.179, 'neu': 0.821, 'pos': 0.0, 'compound': -0.5423},\n",
       " {'neg': 0.112, 'neu': 0.773, 'pos': 0.116, 'compound': 0.0258},\n",
       " {'neg': 0.0, 'neu': 1.0, 'pos': 0.0, 'compound': 0.0},\n",
       " {'neg': 0.204, 'neu': 0.796, 'pos': 0.0, 'compound': -0.7073},\n",
       " {'neg': 0.0, 'neu': 1.0, 'pos': 0.0, 'compound': 0.0},\n",
       " {'neg': 0.0, 'neu': 1.0, 'pos': 0.0, 'compound': 0.0},\n",
       " {'neg': 0.142, 'neu': 0.756, 'pos': 0.102, 'compound': -0.2263}]"
      ]
     },
     "execution_count": 5,
     "metadata": {},
     "output_type": "execute_result"
    }
   ],
   "source": [
    "scores[0:10]"
   ]
  },
  {
   "cell_type": "code",
   "execution_count": 6,
   "metadata": {},
   "outputs": [],
   "source": [
    "# converting list to df\n",
    "scores_df = pd.DataFrame(scores) "
   ]
  },
  {
   "cell_type": "code",
   "execution_count": 7,
   "metadata": {},
   "outputs": [
    {
     "data": {
      "text/html": [
       "<div>\n",
       "<style scoped>\n",
       "    .dataframe tbody tr th:only-of-type {\n",
       "        vertical-align: middle;\n",
       "    }\n",
       "\n",
       "    .dataframe tbody tr th {\n",
       "        vertical-align: top;\n",
       "    }\n",
       "\n",
       "    .dataframe thead th {\n",
       "        text-align: right;\n",
       "    }\n",
       "</style>\n",
       "<table border=\"1\" class=\"dataframe\">\n",
       "  <thead>\n",
       "    <tr style=\"text-align: right;\">\n",
       "      <th></th>\n",
       "      <th>text</th>\n",
       "      <th>created_at</th>\n",
       "      <th>neg</th>\n",
       "      <th>neu</th>\n",
       "      <th>pos</th>\n",
       "      <th>compound</th>\n",
       "    </tr>\n",
       "  </thead>\n",
       "  <tbody>\n",
       "    <tr>\n",
       "      <td>0</td>\n",
       "      <td>With the number of confirmed cases of coronavi...</td>\n",
       "      <td>Tue Mar 10 00:00:05 +0000 2020</td>\n",
       "      <td>0.000</td>\n",
       "      <td>0.936</td>\n",
       "      <td>0.064</td>\n",
       "      <td>0.0772</td>\n",
       "    </tr>\n",
       "    <tr>\n",
       "      <td>1</td>\n",
       "      <td>#COVID-19  is Q84263196 in #WIkidata.  The ite...</td>\n",
       "      <td>Tue Mar 10 00:00:10 +0000 2020</td>\n",
       "      <td>0.000</td>\n",
       "      <td>1.000</td>\n",
       "      <td>0.000</td>\n",
       "      <td>0.0000</td>\n",
       "    </tr>\n",
       "    <tr>\n",
       "      <td>2</td>\n",
       "      <td>Another fearless leader has everything under c...</td>\n",
       "      <td>Tue Mar 10 00:00:07 +0000 2020</td>\n",
       "      <td>0.000</td>\n",
       "      <td>0.861</td>\n",
       "      <td>0.139</td>\n",
       "      <td>0.4404</td>\n",
       "    </tr>\n",
       "    <tr>\n",
       "      <td>3</td>\n",
       "      <td>Gutter crime? |#gutters #guttercleaning #gutte...</td>\n",
       "      <td>Tue Mar 10 00:00:02 +0000 2020</td>\n",
       "      <td>0.179</td>\n",
       "      <td>0.821</td>\n",
       "      <td>0.000</td>\n",
       "      <td>-0.5423</td>\n",
       "    </tr>\n",
       "    <tr>\n",
       "      <td>4</td>\n",
       "      <td>How To Boost Your Emergency Supply Of Prescrip...</td>\n",
       "      <td>Tue Mar 10 00:00:02 +0000 2020</td>\n",
       "      <td>0.112</td>\n",
       "      <td>0.773</td>\n",
       "      <td>0.116</td>\n",
       "      <td>0.0258</td>\n",
       "    </tr>\n",
       "  </tbody>\n",
       "</table>\n",
       "</div>"
      ],
      "text/plain": [
       "                                                text  \\\n",
       "0  With the number of confirmed cases of coronavi...   \n",
       "1  #COVID-19  is Q84263196 in #WIkidata.  The ite...   \n",
       "2  Another fearless leader has everything under c...   \n",
       "3  Gutter crime? |#gutters #guttercleaning #gutte...   \n",
       "4  How To Boost Your Emergency Supply Of Prescrip...   \n",
       "\n",
       "                       created_at    neg    neu    pos  compound  \n",
       "0  Tue Mar 10 00:00:05 +0000 2020  0.000  0.936  0.064    0.0772  \n",
       "1  Tue Mar 10 00:00:10 +0000 2020  0.000  1.000  0.000    0.0000  \n",
       "2  Tue Mar 10 00:00:07 +0000 2020  0.000  0.861  0.139    0.4404  \n",
       "3  Tue Mar 10 00:00:02 +0000 2020  0.179  0.821  0.000   -0.5423  \n",
       "4  Tue Mar 10 00:00:02 +0000 2020  0.112  0.773  0.116    0.0258  "
      ]
     },
     "execution_count": 7,
     "metadata": {},
     "output_type": "execute_result"
    }
   ],
   "source": [
    "# final tweets df with sentiment scores\n",
    "tweets = pd.concat([tweets.reset_index(drop=True), scores_df], axis=1)\n",
    "tweets.head()"
   ]
  },
  {
   "cell_type": "code",
   "execution_count": 9,
   "metadata": {},
   "outputs": [
    {
     "data": {
      "text/plain": [
       "(4146373, 6)"
      ]
     },
     "execution_count": 9,
     "metadata": {},
     "output_type": "execute_result"
    }
   ],
   "source": [
    "tweets.shape"
   ]
  },
  {
   "cell_type": "code",
   "execution_count": 11,
   "metadata": {},
   "outputs": [],
   "source": [
    "tweets.to_csv('tweets.csv')"
   ]
  },
  {
   "cell_type": "code",
   "execution_count": null,
   "metadata": {},
   "outputs": [],
   "source": []
  }
 ],
 "metadata": {
  "kernelspec": {
   "display_name": "Python 3",
   "language": "python",
   "name": "python3"
  },
  "language_info": {
   "codemirror_mode": {
    "name": "ipython",
    "version": 3
   },
   "file_extension": ".py",
   "mimetype": "text/x-python",
   "name": "python",
   "nbconvert_exporter": "python",
   "pygments_lexer": "ipython3",
   "version": "3.8.1"
  }
 },
 "nbformat": 4,
 "nbformat_minor": 2
}
